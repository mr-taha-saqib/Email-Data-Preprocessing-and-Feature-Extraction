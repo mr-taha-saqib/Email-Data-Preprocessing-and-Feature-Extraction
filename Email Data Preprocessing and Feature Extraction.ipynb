{
  "nbformat": 4,
  "nbformat_minor": 0,
  "metadata": {
    "colab": {
      "provenance": []
    },
    "kernelspec": {
      "name": "python3",
      "display_name": "Python 3"
    },
    "language_info": {
      "name": "python"
    }
  },
  "cells": [
    {
      "cell_type": "code",
      "source": [
        "pip install demoji"
      ],
      "metadata": {
        "colab": {
          "base_uri": "https://localhost:8080/"
        },
        "id": "W97CzU5m-F8i",
        "outputId": "7b2361c1-8670-4902-f8ea-7b5e76e90e39"
      },
      "execution_count": null,
      "outputs": [
        {
          "output_type": "stream",
          "name": "stdout",
          "text": [
            "Collecting demoji\n",
            "  Downloading demoji-1.1.0-py3-none-any.whl (42 kB)\n",
            "\u001b[2K     \u001b[90m━━━━━━━━━━━━━━━━━━━━━━━━━━━━━━━━━━━━━━━━\u001b[0m \u001b[32m42.9/42.9 kB\u001b[0m \u001b[31m1.2 MB/s\u001b[0m eta \u001b[36m0:00:00\u001b[0m\n",
            "\u001b[?25hInstalling collected packages: demoji\n",
            "Successfully installed demoji-1.1.0\n"
          ]
        }
      ]
    },
    {
      "cell_type": "code",
      "source": [
        "pip install nltk"
      ],
      "metadata": {
        "colab": {
          "base_uri": "https://localhost:8080/"
        },
        "id": "iI8Jlx4QAQWL",
        "outputId": "79b03d2b-8ea2-43fd-962f-1adc12a4b27d"
      },
      "execution_count": null,
      "outputs": [
        {
          "output_type": "stream",
          "name": "stdout",
          "text": [
            "Requirement already satisfied: nltk in /usr/local/lib/python3.10/dist-packages (3.8.1)\n",
            "Requirement already satisfied: click in /usr/local/lib/python3.10/dist-packages (from nltk) (8.1.7)\n",
            "Requirement already satisfied: joblib in /usr/local/lib/python3.10/dist-packages (from nltk) (1.3.2)\n",
            "Requirement already satisfied: regex>=2021.8.3 in /usr/local/lib/python3.10/dist-packages (from nltk) (2023.6.3)\n",
            "Requirement already satisfied: tqdm in /usr/local/lib/python3.10/dist-packages (from nltk) (4.66.1)\n"
          ]
        }
      ]
    },
    {
      "cell_type": "code",
      "source": [
        "import nltk\n",
        "\n",
        "nltk.download('all')"
      ],
      "metadata": {
        "colab": {
          "base_uri": "https://localhost:8080/"
        },
        "id": "CC0cz8HlAXwO",
        "outputId": "a182a65e-6485-4648-f878-5dc1f89690db"
      },
      "execution_count": null,
      "outputs": [
        {
          "output_type": "stream",
          "name": "stderr",
          "text": [
            "[nltk_data] Downloading collection 'all'\n",
            "[nltk_data]    | \n",
            "[nltk_data]    | Downloading package abc to /root/nltk_data...\n",
            "[nltk_data]    |   Unzipping corpora/abc.zip.\n",
            "[nltk_data]    | Downloading package alpino to /root/nltk_data...\n",
            "[nltk_data]    |   Unzipping corpora/alpino.zip.\n",
            "[nltk_data]    | Downloading package averaged_perceptron_tagger to\n",
            "[nltk_data]    |     /root/nltk_data...\n",
            "[nltk_data]    |   Unzipping taggers/averaged_perceptron_tagger.zip.\n",
            "[nltk_data]    | Downloading package averaged_perceptron_tagger_ru to\n",
            "[nltk_data]    |     /root/nltk_data...\n",
            "[nltk_data]    |   Unzipping\n",
            "[nltk_data]    |       taggers/averaged_perceptron_tagger_ru.zip.\n",
            "[nltk_data]    | Downloading package basque_grammars to\n",
            "[nltk_data]    |     /root/nltk_data...\n",
            "[nltk_data]    |   Unzipping grammars/basque_grammars.zip.\n",
            "[nltk_data]    | Downloading package bcp47 to /root/nltk_data...\n",
            "[nltk_data]    | Downloading package biocreative_ppi to\n",
            "[nltk_data]    |     /root/nltk_data...\n",
            "[nltk_data]    |   Unzipping corpora/biocreative_ppi.zip.\n",
            "[nltk_data]    | Downloading package bllip_wsj_no_aux to\n",
            "[nltk_data]    |     /root/nltk_data...\n",
            "[nltk_data]    |   Unzipping models/bllip_wsj_no_aux.zip.\n",
            "[nltk_data]    | Downloading package book_grammars to\n",
            "[nltk_data]    |     /root/nltk_data...\n",
            "[nltk_data]    |   Unzipping grammars/book_grammars.zip.\n",
            "[nltk_data]    | Downloading package brown to /root/nltk_data...\n",
            "[nltk_data]    |   Unzipping corpora/brown.zip.\n",
            "[nltk_data]    | Downloading package brown_tei to /root/nltk_data...\n",
            "[nltk_data]    |   Unzipping corpora/brown_tei.zip.\n",
            "[nltk_data]    | Downloading package cess_cat to /root/nltk_data...\n",
            "[nltk_data]    |   Unzipping corpora/cess_cat.zip.\n",
            "[nltk_data]    | Downloading package cess_esp to /root/nltk_data...\n",
            "[nltk_data]    |   Unzipping corpora/cess_esp.zip.\n",
            "[nltk_data]    | Downloading package chat80 to /root/nltk_data...\n",
            "[nltk_data]    |   Unzipping corpora/chat80.zip.\n",
            "[nltk_data]    | Downloading package city_database to\n",
            "[nltk_data]    |     /root/nltk_data...\n",
            "[nltk_data]    |   Unzipping corpora/city_database.zip.\n",
            "[nltk_data]    | Downloading package cmudict to /root/nltk_data...\n",
            "[nltk_data]    |   Unzipping corpora/cmudict.zip.\n",
            "[nltk_data]    | Downloading package comparative_sentences to\n",
            "[nltk_data]    |     /root/nltk_data...\n",
            "[nltk_data]    |   Unzipping corpora/comparative_sentences.zip.\n",
            "[nltk_data]    | Downloading package comtrans to /root/nltk_data...\n",
            "[nltk_data]    | Downloading package conll2000 to /root/nltk_data...\n",
            "[nltk_data]    |   Unzipping corpora/conll2000.zip.\n",
            "[nltk_data]    | Downloading package conll2002 to /root/nltk_data...\n",
            "[nltk_data]    |   Unzipping corpora/conll2002.zip.\n",
            "[nltk_data]    | Downloading package conll2007 to /root/nltk_data...\n",
            "[nltk_data]    | Downloading package crubadan to /root/nltk_data...\n",
            "[nltk_data]    |   Unzipping corpora/crubadan.zip.\n",
            "[nltk_data]    | Downloading package dependency_treebank to\n",
            "[nltk_data]    |     /root/nltk_data...\n",
            "[nltk_data]    |   Unzipping corpora/dependency_treebank.zip.\n",
            "[nltk_data]    | Downloading package dolch to /root/nltk_data...\n",
            "[nltk_data]    |   Unzipping corpora/dolch.zip.\n",
            "[nltk_data]    | Downloading package europarl_raw to\n",
            "[nltk_data]    |     /root/nltk_data...\n",
            "[nltk_data]    |   Unzipping corpora/europarl_raw.zip.\n",
            "[nltk_data]    | Downloading package extended_omw to\n",
            "[nltk_data]    |     /root/nltk_data...\n",
            "[nltk_data]    | Downloading package floresta to /root/nltk_data...\n",
            "[nltk_data]    |   Unzipping corpora/floresta.zip.\n",
            "[nltk_data]    | Downloading package framenet_v15 to\n",
            "[nltk_data]    |     /root/nltk_data...\n",
            "[nltk_data]    |   Unzipping corpora/framenet_v15.zip.\n",
            "[nltk_data]    | Downloading package framenet_v17 to\n",
            "[nltk_data]    |     /root/nltk_data...\n",
            "[nltk_data]    |   Unzipping corpora/framenet_v17.zip.\n",
            "[nltk_data]    | Downloading package gazetteers to /root/nltk_data...\n",
            "[nltk_data]    |   Unzipping corpora/gazetteers.zip.\n",
            "[nltk_data]    | Downloading package genesis to /root/nltk_data...\n",
            "[nltk_data]    |   Unzipping corpora/genesis.zip.\n",
            "[nltk_data]    | Downloading package gutenberg to /root/nltk_data...\n",
            "[nltk_data]    |   Unzipping corpora/gutenberg.zip.\n",
            "[nltk_data]    | Downloading package ieer to /root/nltk_data...\n",
            "[nltk_data]    |   Unzipping corpora/ieer.zip.\n",
            "[nltk_data]    | Downloading package inaugural to /root/nltk_data...\n",
            "[nltk_data]    |   Unzipping corpora/inaugural.zip.\n",
            "[nltk_data]    | Downloading package indian to /root/nltk_data...\n",
            "[nltk_data]    |   Unzipping corpora/indian.zip.\n",
            "[nltk_data]    | Downloading package jeita to /root/nltk_data...\n",
            "[nltk_data]    | Downloading package kimmo to /root/nltk_data...\n",
            "[nltk_data]    |   Unzipping corpora/kimmo.zip.\n",
            "[nltk_data]    | Downloading package knbc to /root/nltk_data...\n",
            "[nltk_data]    | Downloading package large_grammars to\n",
            "[nltk_data]    |     /root/nltk_data...\n",
            "[nltk_data]    |   Unzipping grammars/large_grammars.zip.\n",
            "[nltk_data]    | Downloading package lin_thesaurus to\n",
            "[nltk_data]    |     /root/nltk_data...\n",
            "[nltk_data]    |   Unzipping corpora/lin_thesaurus.zip.\n",
            "[nltk_data]    | Downloading package mac_morpho to /root/nltk_data...\n",
            "[nltk_data]    |   Unzipping corpora/mac_morpho.zip.\n",
            "[nltk_data]    | Downloading package machado to /root/nltk_data...\n",
            "[nltk_data]    | Downloading package masc_tagged to /root/nltk_data...\n",
            "[nltk_data]    | Downloading package maxent_ne_chunker to\n",
            "[nltk_data]    |     /root/nltk_data...\n",
            "[nltk_data]    |   Unzipping chunkers/maxent_ne_chunker.zip.\n",
            "[nltk_data]    | Downloading package maxent_treebank_pos_tagger to\n",
            "[nltk_data]    |     /root/nltk_data...\n",
            "[nltk_data]    |   Unzipping taggers/maxent_treebank_pos_tagger.zip.\n",
            "[nltk_data]    | Downloading package moses_sample to\n",
            "[nltk_data]    |     /root/nltk_data...\n",
            "[nltk_data]    |   Unzipping models/moses_sample.zip.\n",
            "[nltk_data]    | Downloading package movie_reviews to\n",
            "[nltk_data]    |     /root/nltk_data...\n",
            "[nltk_data]    |   Unzipping corpora/movie_reviews.zip.\n",
            "[nltk_data]    | Downloading package mte_teip5 to /root/nltk_data...\n",
            "[nltk_data]    |   Unzipping corpora/mte_teip5.zip.\n",
            "[nltk_data]    | Downloading package mwa_ppdb to /root/nltk_data...\n",
            "[nltk_data]    |   Unzipping misc/mwa_ppdb.zip.\n",
            "[nltk_data]    | Downloading package names to /root/nltk_data...\n",
            "[nltk_data]    |   Unzipping corpora/names.zip.\n",
            "[nltk_data]    | Downloading package nombank.1.0 to /root/nltk_data...\n",
            "[nltk_data]    | Downloading package nonbreaking_prefixes to\n",
            "[nltk_data]    |     /root/nltk_data...\n",
            "[nltk_data]    |   Unzipping corpora/nonbreaking_prefixes.zip.\n",
            "[nltk_data]    | Downloading package nps_chat to /root/nltk_data...\n",
            "[nltk_data]    |   Unzipping corpora/nps_chat.zip.\n",
            "[nltk_data]    | Downloading package omw to /root/nltk_data...\n",
            "[nltk_data]    | Downloading package omw-1.4 to /root/nltk_data...\n",
            "[nltk_data]    | Downloading package opinion_lexicon to\n",
            "[nltk_data]    |     /root/nltk_data...\n",
            "[nltk_data]    |   Unzipping corpora/opinion_lexicon.zip.\n",
            "[nltk_data]    | Downloading package panlex_swadesh to\n",
            "[nltk_data]    |     /root/nltk_data...\n",
            "[nltk_data]    | Downloading package paradigms to /root/nltk_data...\n",
            "[nltk_data]    |   Unzipping corpora/paradigms.zip.\n",
            "[nltk_data]    | Downloading package pe08 to /root/nltk_data...\n",
            "[nltk_data]    |   Unzipping corpora/pe08.zip.\n",
            "[nltk_data]    | Downloading package perluniprops to\n",
            "[nltk_data]    |     /root/nltk_data...\n",
            "[nltk_data]    |   Unzipping misc/perluniprops.zip.\n",
            "[nltk_data]    | Downloading package pil to /root/nltk_data...\n",
            "[nltk_data]    |   Unzipping corpora/pil.zip.\n",
            "[nltk_data]    | Downloading package pl196x to /root/nltk_data...\n",
            "[nltk_data]    |   Unzipping corpora/pl196x.zip.\n",
            "[nltk_data]    | Downloading package porter_test to /root/nltk_data...\n",
            "[nltk_data]    |   Unzipping stemmers/porter_test.zip.\n",
            "[nltk_data]    | Downloading package ppattach to /root/nltk_data...\n",
            "[nltk_data]    |   Unzipping corpora/ppattach.zip.\n",
            "[nltk_data]    | Downloading package problem_reports to\n",
            "[nltk_data]    |     /root/nltk_data...\n",
            "[nltk_data]    |   Unzipping corpora/problem_reports.zip.\n",
            "[nltk_data]    | Downloading package product_reviews_1 to\n",
            "[nltk_data]    |     /root/nltk_data...\n",
            "[nltk_data]    |   Unzipping corpora/product_reviews_1.zip.\n",
            "[nltk_data]    | Downloading package product_reviews_2 to\n",
            "[nltk_data]    |     /root/nltk_data...\n",
            "[nltk_data]    |   Unzipping corpora/product_reviews_2.zip.\n",
            "[nltk_data]    | Downloading package propbank to /root/nltk_data...\n",
            "[nltk_data]    | Downloading package pros_cons to /root/nltk_data...\n",
            "[nltk_data]    |   Unzipping corpora/pros_cons.zip.\n",
            "[nltk_data]    | Downloading package ptb to /root/nltk_data...\n",
            "[nltk_data]    |   Unzipping corpora/ptb.zip.\n",
            "[nltk_data]    | Downloading package punkt to /root/nltk_data...\n",
            "[nltk_data]    |   Unzipping tokenizers/punkt.zip.\n",
            "[nltk_data]    | Downloading package qc to /root/nltk_data...\n",
            "[nltk_data]    |   Unzipping corpora/qc.zip.\n",
            "[nltk_data]    | Downloading package reuters to /root/nltk_data...\n",
            "[nltk_data]    | Downloading package rslp to /root/nltk_data...\n",
            "[nltk_data]    |   Unzipping stemmers/rslp.zip.\n",
            "[nltk_data]    | Downloading package rte to /root/nltk_data...\n",
            "[nltk_data]    |   Unzipping corpora/rte.zip.\n",
            "[nltk_data]    | Downloading package sample_grammars to\n",
            "[nltk_data]    |     /root/nltk_data...\n",
            "[nltk_data]    |   Unzipping grammars/sample_grammars.zip.\n",
            "[nltk_data]    | Downloading package semcor to /root/nltk_data...\n",
            "[nltk_data]    | Downloading package senseval to /root/nltk_data...\n",
            "[nltk_data]    |   Unzipping corpora/senseval.zip.\n",
            "[nltk_data]    | Downloading package sentence_polarity to\n",
            "[nltk_data]    |     /root/nltk_data...\n",
            "[nltk_data]    |   Unzipping corpora/sentence_polarity.zip.\n",
            "[nltk_data]    | Downloading package sentiwordnet to\n",
            "[nltk_data]    |     /root/nltk_data...\n",
            "[nltk_data]    |   Unzipping corpora/sentiwordnet.zip.\n",
            "[nltk_data]    | Downloading package shakespeare to /root/nltk_data...\n",
            "[nltk_data]    |   Unzipping corpora/shakespeare.zip.\n",
            "[nltk_data]    | Downloading package sinica_treebank to\n",
            "[nltk_data]    |     /root/nltk_data...\n",
            "[nltk_data]    |   Unzipping corpora/sinica_treebank.zip.\n",
            "[nltk_data]    | Downloading package smultron to /root/nltk_data...\n",
            "[nltk_data]    |   Unzipping corpora/smultron.zip.\n",
            "[nltk_data]    | Downloading package snowball_data to\n",
            "[nltk_data]    |     /root/nltk_data...\n",
            "[nltk_data]    | Downloading package spanish_grammars to\n",
            "[nltk_data]    |     /root/nltk_data...\n",
            "[nltk_data]    |   Unzipping grammars/spanish_grammars.zip.\n",
            "[nltk_data]    | Downloading package state_union to /root/nltk_data...\n",
            "[nltk_data]    |   Unzipping corpora/state_union.zip.\n",
            "[nltk_data]    | Downloading package stopwords to /root/nltk_data...\n",
            "[nltk_data]    |   Unzipping corpora/stopwords.zip.\n",
            "[nltk_data]    | Downloading package subjectivity to\n",
            "[nltk_data]    |     /root/nltk_data...\n",
            "[nltk_data]    |   Unzipping corpora/subjectivity.zip.\n",
            "[nltk_data]    | Downloading package swadesh to /root/nltk_data...\n",
            "[nltk_data]    |   Unzipping corpora/swadesh.zip.\n",
            "[nltk_data]    | Downloading package switchboard to /root/nltk_data...\n",
            "[nltk_data]    |   Unzipping corpora/switchboard.zip.\n",
            "[nltk_data]    | Downloading package tagsets to /root/nltk_data...\n",
            "[nltk_data]    |   Unzipping help/tagsets.zip.\n",
            "[nltk_data]    | Downloading package timit to /root/nltk_data...\n",
            "[nltk_data]    |   Unzipping corpora/timit.zip.\n",
            "[nltk_data]    | Downloading package toolbox to /root/nltk_data...\n",
            "[nltk_data]    |   Unzipping corpora/toolbox.zip.\n",
            "[nltk_data]    | Downloading package treebank to /root/nltk_data...\n",
            "[nltk_data]    |   Unzipping corpora/treebank.zip.\n",
            "[nltk_data]    | Downloading package twitter_samples to\n",
            "[nltk_data]    |     /root/nltk_data...\n",
            "[nltk_data]    |   Unzipping corpora/twitter_samples.zip.\n",
            "[nltk_data]    | Downloading package udhr to /root/nltk_data...\n",
            "[nltk_data]    |   Unzipping corpora/udhr.zip.\n",
            "[nltk_data]    | Downloading package udhr2 to /root/nltk_data...\n",
            "[nltk_data]    |   Unzipping corpora/udhr2.zip.\n",
            "[nltk_data]    | Downloading package unicode_samples to\n",
            "[nltk_data]    |     /root/nltk_data...\n",
            "[nltk_data]    |   Unzipping corpora/unicode_samples.zip.\n",
            "[nltk_data]    | Downloading package universal_tagset to\n",
            "[nltk_data]    |     /root/nltk_data...\n",
            "[nltk_data]    |   Unzipping taggers/universal_tagset.zip.\n",
            "[nltk_data]    | Downloading package universal_treebanks_v20 to\n",
            "[nltk_data]    |     /root/nltk_data...\n",
            "[nltk_data]    | Downloading package vader_lexicon to\n",
            "[nltk_data]    |     /root/nltk_data...\n",
            "[nltk_data]    | Downloading package verbnet to /root/nltk_data...\n",
            "[nltk_data]    |   Unzipping corpora/verbnet.zip.\n",
            "[nltk_data]    | Downloading package verbnet3 to /root/nltk_data...\n",
            "[nltk_data]    |   Unzipping corpora/verbnet3.zip.\n",
            "[nltk_data]    | Downloading package webtext to /root/nltk_data...\n",
            "[nltk_data]    |   Unzipping corpora/webtext.zip.\n",
            "[nltk_data]    | Downloading package wmt15_eval to /root/nltk_data...\n",
            "[nltk_data]    |   Unzipping models/wmt15_eval.zip.\n",
            "[nltk_data]    | Downloading package word2vec_sample to\n",
            "[nltk_data]    |     /root/nltk_data...\n",
            "[nltk_data]    |   Unzipping models/word2vec_sample.zip.\n",
            "[nltk_data]    | Downloading package wordnet to /root/nltk_data...\n",
            "[nltk_data]    | Downloading package wordnet2021 to /root/nltk_data...\n",
            "[nltk_data]    | Downloading package wordnet2022 to /root/nltk_data...\n",
            "[nltk_data]    |   Unzipping corpora/wordnet2022.zip.\n",
            "[nltk_data]    | Downloading package wordnet31 to /root/nltk_data...\n",
            "[nltk_data]    | Downloading package wordnet_ic to /root/nltk_data...\n",
            "[nltk_data]    |   Unzipping corpora/wordnet_ic.zip.\n",
            "[nltk_data]    | Downloading package words to /root/nltk_data...\n",
            "[nltk_data]    |   Unzipping corpora/words.zip.\n",
            "[nltk_data]    | Downloading package ycoe to /root/nltk_data...\n",
            "[nltk_data]    |   Unzipping corpora/ycoe.zip.\n",
            "[nltk_data]    | \n",
            "[nltk_data]  Done downloading collection all\n"
          ]
        },
        {
          "output_type": "execute_result",
          "data": {
            "text/plain": [
              "True"
            ]
          },
          "metadata": {},
          "execution_count": 35
        }
      ]
    },
    {
      "cell_type": "code",
      "source": [
        "import pandas as pd\n",
        "import numpy as np\n",
        "import re\n",
        "from bs4 import BeautifulSoup\n",
        "import demoji\n",
        "import spacy\n",
        "from nltk.stem import PorterStemmer\n",
        "from nltk.corpus import stopwords\n",
        "from nltk.tokenize import word_tokenize"
      ],
      "metadata": {
        "id": "T5zoJpr335Iy"
      },
      "execution_count": null,
      "outputs": []
    },
    {
      "cell_type": "code",
      "execution_count": null,
      "metadata": {
        "colab": {
          "base_uri": "https://localhost:8080/"
        },
        "id": "IqDZNLmv30Ie",
        "outputId": "6ba9df7b-f7bb-4898-b680-efe378eaace2"
      },
      "outputs": [
        {
          "output_type": "stream",
          "name": "stdout",
          "text": [
            "                                                text  spam\n",
            "0  Subject: naturally irresistible your corporate...     1\n",
            "1  Subject: the stock trading gunslinger  fanny i...     1\n",
            "2  Subject: unbelievable new homes made easy  im ...     1\n",
            "3  Subject: 4 color printing special  request add...     1\n",
            "4  Subject: do not have money , get software cds ...     1\n",
            "\n",
            "Describing the data\n",
            "              spam\n",
            "count  5728.000000\n",
            "mean      0.238827\n",
            "std       0.426404\n",
            "min       0.000000\n",
            "25%       0.000000\n",
            "50%       0.000000\n",
            "75%       0.000000\n",
            "max       1.000000\n"
          ]
        }
      ],
      "source": [
        "#Q1\n",
        "df = pd.read_csv('emails.csv')\n",
        "print(df.head())\n",
        "print(\"\\nDescribing the data\")\n",
        "print(df.describe())"
      ]
    },
    {
      "cell_type": "code",
      "source": [
        "#Q2\n",
        "df = df.drop_duplicates()\n",
        "df.dropna(inplace=True)\n",
        "\n",
        "def clean_text(text):\n",
        "    text = BeautifulSoup(text, 'html.parser').get_text()\n",
        "    # Remove special characters and non-alphanumeric characters\n",
        "    text = re.sub(r'[^a-zA-Z0-9\\s]', '', text)\n",
        "    text = text.lower()\n",
        "    return text\n",
        "for column in df.columns:\n",
        "    if df[column].dtype == 'object':\n",
        "        df[column] = df[column].apply(clean_text)\n",
        "print(\"Difference between cleaned and raw data (first 5 rows):\\n\") #to check raw see upper part\n",
        "print(df.head())"
      ],
      "metadata": {
        "colab": {
          "base_uri": "https://localhost:8080/"
        },
        "id": "FQoSszmw4x1n",
        "outputId": "a105b117-e586-4934-8474-c76fcc595240"
      },
      "execution_count": null,
      "outputs": [
        {
          "output_type": "stream",
          "name": "stderr",
          "text": [
            "<ipython-input-10-2e0f70a62c09>:3: SettingWithCopyWarning: \n",
            "A value is trying to be set on a copy of a slice from a DataFrame\n",
            "\n",
            "See the caveats in the documentation: https://pandas.pydata.org/pandas-docs/stable/user_guide/indexing.html#returning-a-view-versus-a-copy\n",
            "  df.dropna(inplace=True)\n"
          ]
        },
        {
          "output_type": "stream",
          "name": "stdout",
          "text": [
            "Difference between cleaned and raw data (first 5 rows):\n",
            "\n",
            "                                                text  spam\n",
            "0  subject naturally irresistible your corporate ...     1\n",
            "1  subject the stock trading gunslinger  fanny is...     1\n",
            "2  subject unbelievable new homes made easy  im w...     1\n",
            "3  subject 4 color printing special  request addi...     1\n",
            "4  subject do not have money  get software cds fr...     1\n"
          ]
        }
      ]
    },
    {
      "cell_type": "code",
      "source": [
        "#Q3\n",
        "def remove_emojis(text):\n",
        "    return demoji.replace(text,'')\n",
        "\n",
        "df['text'] = df['text'].apply(remove_emojis)\n",
        "\n",
        "# Display the first 5 rows of the cleaned email body\n",
        "print(df['text'].head())"
      ],
      "metadata": {
        "colab": {
          "base_uri": "https://localhost:8080/"
        },
        "id": "YaBUDLPj6NlP",
        "outputId": "2ac6c8c3-6dc5-4ee2-fe8e-18c6a0070803"
      },
      "execution_count": null,
      "outputs": [
        {
          "output_type": "stream",
          "name": "stdout",
          "text": [
            "0    subject naturally irresistible your corporate ...\n",
            "1    subject the stock trading gunslinger  fanny is...\n",
            "2    subject unbelievable new homes made easy  im w...\n",
            "3    subject 4 color printing special  request addi...\n",
            "4    subject do not have money  get software cds fr...\n",
            "Name: text, dtype: object\n"
          ]
        }
      ]
    },
    {
      "cell_type": "code",
      "source": [
        "#Q4\n",
        "stemmer = PorterStemmer()\n",
        "stop_words = set(stopwords.words('english'))\n",
        "\n",
        "nlp = spacy.load(\"en_core_web_sm\")\n",
        "def apply_stemming_nltk(text):\n",
        "    words = nltk.word_tokenize(text) #stemming apply using nltk\n",
        "    stemmed_words = [stemmer.stem(word) for word in words if word.lower() not in stop_words]\n",
        "    return \" \".join(stemmed_words)\n",
        "\n",
        "def apply_lemmatization_spacy(text):\n",
        "    doc = nlp(text) #stemming apply using spacy\n",
        "    lemmatized_words = [token.lemma_ for token in doc if not token.is_stop]\n",
        "    return \" \".join(lemmatized_words)"
      ],
      "metadata": {
        "id": "aBbyNyltFM_Y"
      },
      "execution_count": null,
      "outputs": []
    },
    {
      "cell_type": "code",
      "source": [
        "# Apply stemming using NLTK\n",
        "df['stemmed_email_body_nltk'] = df['text'].apply(apply_stemming_nltk)\n",
        "\n",
        "# Apply lemmatization using spaCy\n",
        "df['lemmatized_email_body_spacy'] = df['text'].apply(apply_lemmatization_spacy)\n",
        "\n",
        "print(\"Stemming:\")\n",
        "print(df['stemmed_email_body_nltk'].head())\n",
        "\n",
        "print(\"\\nLemmatization:\")\n",
        "print(df['lemmatized_email_body_spacy'].head())"
      ],
      "metadata": {
        "colab": {
          "base_uri": "https://localhost:8080/"
        },
        "id": "oXNwHP_gAMwH",
        "outputId": "ed88dbff-e869-4481-88bc-87a1de50df39"
      },
      "execution_count": null,
      "outputs": [
        {
          "output_type": "stream",
          "name": "stdout",
          "text": [
            "Stemming:\n",
            "0    subject natur irresist corpor ident lt realli ...\n",
            "1    subject stock trade gunsling fanni merril muzo...\n",
            "2    subject unbeliev new home made easi im want sh...\n",
            "3    subject 4 color print special request addit in...\n",
            "4    subject money get softwar cd softwar compat gr...\n",
            "Name: stemmed_email_body_nltk, dtype: object\n",
            "\n",
            "Lemmatization:\n",
            "0    subject naturally irresistible corporate ident...\n",
            "1    subject stock trading gunslinger   fanny merri...\n",
            "2    subject unbelievable new home easy   m want   ...\n",
            "3    subject 4 color printing special   request add...\n",
            "4    subject money   software cd    software compat...\n",
            "Name: lemmatized_email_body_spacy, dtype: object\n"
          ]
        }
      ]
    },
    {
      "cell_type": "code",
      "source": [
        "#Q5\n",
        "manual_stopwords = [\"the\", \"and\", \"to\", \"of\", \"a\", \"in\", \"for\", \"on\", \"with\", \"is\", \"it\", \"this\", \"that\", \"was\", \"as\", \"at\", \"by\"]\n",
        "def remove_stopwords_manual(text):\n",
        "    words = text.split()\n",
        "    filtered_words = [word for word in words if word.lower() not in manual_stopwords]\n",
        "    return ' '.join(filtered_words)\n",
        "def remove_stopwords_nltk(text):\n",
        "    words = text.split()\n",
        "    filtered_words = [word for word in words if word.lower() not in stop_words]\n",
        "    return ' '.join(filtered_words)\n",
        "\n",
        "df['email_body_no_manual_stopwords'] = df['text'].apply(remove_stopwords_manual)\n",
        "df['email_body_no_nltk_stopwords'] = df['text'].apply(remove_stopwords_nltk)\n",
        "\n",
        "# Print Email Body with Manual Stop Word Removal\n",
        "print(\"Email Body with Manual Stop Word Removal:\")\n",
        "print(df['email_body_no_manual_stopwords'].head())\n",
        "\n",
        "# Print Email Body with NLTK Stop Word Removal\n",
        "print(\"\\nEmail Body with NLTK Stop Word Removal:\")\n",
        "print(df['email_body_no_nltk_stopwords'].head())\n",
        "\n"
      ],
      "metadata": {
        "colab": {
          "base_uri": "https://localhost:8080/"
        },
        "id": "j7Mex0SmENPR",
        "outputId": "82c649cb-0b94-438c-d139-55fd79ccc34b"
      },
      "execution_count": null,
      "outputs": [
        {
          "output_type": "stream",
          "name": "stdout",
          "text": [
            "Email Body with Manual Stop Word Removal:\n",
            "0    subject naturally irresistible your corporate ...\n",
            "1    subject stock trading gunslinger fanny merrill...\n",
            "2    subject unbelievable new homes made easy im wa...\n",
            "3    subject 4 color printing special request addit...\n",
            "4    subject do not have money get software cds fro...\n",
            "Name: email_body_no_manual_stopwords, dtype: object\n",
            "\n",
            "Email Body with NLTK Stop Word Removal:\n",
            "0    subject naturally irresistible corporate ident...\n",
            "1    subject stock trading gunslinger fanny merrill...\n",
            "2    subject unbelievable new homes made easy im wa...\n",
            "3    subject 4 color printing special request addit...\n",
            "4    subject money get software cds software compat...\n",
            "Name: email_body_no_nltk_stopwords, dtype: object\n"
          ]
        }
      ]
    },
    {
      "cell_type": "code",
      "source": [
        "#Q6\n",
        "def tokenize_text(text):\n",
        "    words = word_tokenize(text)\n",
        "    return words\n",
        "df['tokenized_email_body'] = df['text'].apply(tokenize_text)"
      ],
      "metadata": {
        "id": "28Ulx-jbGDs1"
      },
      "execution_count": null,
      "outputs": []
    },
    {
      "cell_type": "code",
      "source": [
        "print(\"Tokenized Email Body:\")\n",
        "print(df['tokenized_email_body'].head())"
      ],
      "metadata": {
        "colab": {
          "base_uri": "https://localhost:8080/"
        },
        "id": "Cym5h6GAGQuH",
        "outputId": "d7c47f00-16c3-490c-a954-b5f30d6b4f97"
      },
      "execution_count": null,
      "outputs": [
        {
          "output_type": "stream",
          "name": "stdout",
          "text": [
            "Tokenized Email Body:\n",
            "0    [subject, naturally, irresistible, corporate, ...\n",
            "1    [subject, stock, trading, gunslinger, fanny, m...\n",
            "2    [subject, unbelievable, new, homes, made, easy...\n",
            "3    [subject, 4, color, printing, special, request...\n",
            "4    [subject, money, get, software, cds, software,...\n",
            "Name: tokenized_email_body, dtype: object\n"
          ]
        }
      ]
    },
    {
      "cell_type": "code",
      "source": [
        "#Q7\n",
        "from sklearn.feature_extraction.text import TfidfVectorizer"
      ],
      "metadata": {
        "id": "WK85OQ_AIV7b"
      },
      "execution_count": null,
      "outputs": []
    },
    {
      "cell_type": "code",
      "source": [
        "df['email_text'] = df['tokenized_email_body'].apply(lambda x: ' '.join(x))\n",
        "# TF-IDF vectorizer\n",
        "tfidf_vectorizer = TfidfVectorizer()\n",
        "# TF-IDF vectors\n",
        "tfidf_vectors = tfidf_vectorizer.fit_transform(df['email_text'])"
      ],
      "metadata": {
        "id": "1MXagDXtJfX7"
      },
      "execution_count": null,
      "outputs": []
    },
    {
      "cell_type": "code",
      "source": [
        "#Q8\n",
        "from sklearn.feature_extraction.text import CountVectorizer\n",
        "email_text = df['email_body_no_nltk_stopwords']\n",
        "vectorizer = CountVectorizer()\n",
        "\n",
        "# Create BoW representations\n",
        "bow_matrix = vectorizer.fit_transform(email_text)"
      ],
      "metadata": {
        "id": "X-DGL8JWKw8p"
      },
      "execution_count": null,
      "outputs": []
    },
    {
      "cell_type": "code",
      "source": [
        "print(\"Original Text:\")\n",
        "print(df['text'].iloc[0])\n",
        "\n",
        "# Print the TF-IDF representation for the same email\n",
        "print(\"\\nTF-IDF:\")\n",
        "print(tfidf_vectors[0])\n",
        "\n",
        "# Print the BoW representation for the same email\n",
        "print(\"\\nBag of Words (BoW):\")\n",
        "print(bow_matrix[0])"
      ],
      "metadata": {
        "colab": {
          "base_uri": "https://localhost:8080/"
        },
        "id": "famo2ELDLyEO",
        "outputId": "a67e0d47-ed53-42ee-9087-852fd28fd1dc"
      },
      "execution_count": null,
      "outputs": [
        {
          "output_type": "stream",
          "name": "stdout",
          "text": [
            "Original Text:\n",
            "subject naturally irresistible your corporate identity  lt is really hard to recollect a company  the  market is full of suqgestions and the information isoverwhelminq  but a good  catchy logo  stylish statlonery and outstanding website  will make the task much easier   we do not promise that havinq ordered a iogo your  company will automaticaily become a world ieader  it isguite ciear that  without good products  effective business organization and practicable aim it  will be hotat nowadays market  but we do promise that your marketing efforts  will become much more effective  here is the list of clear  benefits  creativeness  hand  made  original logos  specially done  to reflect your distinctive company image  convenience  logo and stationery  are provided in all formats  easy  to  use content management system letsyou  change your website content and even its structure  promptness  you  will see logo drafts within three business days  affordability  your  marketing break  through shouldn  t make gaps in your budget  100  satisfaction  guaranteed  we provide unlimited amount of changes with no extra fees for you to  be surethat you will love the result of this collaboration  have a look at our  portfolio                                                     not interested                                                       \n",
            "\n",
            "TF-IDF:\n",
            "  (0, 18513)\t0.05496733494227405\n",
            "  (0, 26347)\t0.07957935746218478\n",
            "  (0, 20966)\t0.04871445926205777\n",
            "  (0, 9062)\t0.09542943488203541\n",
            "  (0, 28844)\t0.07687412328098966\n",
            "  (0, 21055)\t0.08450048164902335\n",
            "  (0, 32582)\t0.11150799910912387\n",
            "  (0, 14502)\t0.09355696631740147\n",
            "  (0, 14170)\t0.08743450063616605\n",
            "  (0, 8322)\t0.06757568074768548\n",
            "  (0, 4751)\t0.07531027426019292\n",
            "  (0, 34764)\t0.09407152729161498\n",
            "  (0, 27191)\t0.05761985291269524\n",
            "  (0, 16371)\t0.08526667501278663\n",
            "  (0, 29823)\t0.09330533392785169\n",
            "  (0, 343)\t0.07070704320855817\n",
            "  (0, 7384)\t0.08911289163717982\n",
            "  (0, 15554)\t0.1060189673736585\n",
            "  (0, 7144)\t0.08690949012385883\n",
            "  (0, 4206)\t0.11080437028794585\n",
            "  (0, 10830)\t0.059836150109149784\n",
            "  (0, 33527)\t0.06916244210998236\n",
            "  (0, 36391)\t0.05965790123460344\n",
            "  (0, 12265)\t0.10947783033595068\n",
            "  (0, 30183)\t0.0461193104115514\n",
            "  :\t:\n",
            "  (0, 23008)\t0.10881825230802072\n",
            "  (0, 33002)\t0.09487337012528939\n",
            "  (0, 21398)\t0.09510319632220815\n",
            "  (0, 35986)\t0.13203970861353437\n",
            "  (0, 24806)\t0.08891812671114917\n",
            "  (0, 31933)\t0.11849680353673223\n",
            "  (0, 32284)\t0.11960922256677421\n",
            "  (0, 20919)\t0.25627226154122346\n",
            "  (0, 8028)\t0.11080437028794585\n",
            "  (0, 16060)\t0.10004442564496915\n",
            "  (0, 18856)\t0.13044424361877574\n",
            "  (0, 18208)\t0.04359678817085411\n",
            "  (0, 32567)\t0.11960922256677421\n",
            "  (0, 15401)\t0.0648306578109918\n",
            "  (0, 21621)\t0.1120516110643269\n",
            "  (0, 9270)\t0.1619869102769708\n",
            "  (0, 28075)\t0.11012834197315807\n",
            "  (0, 16644)\t0.07584616755465122\n",
            "  (0, 27951)\t0.06596863134913593\n",
            "  (0, 21107)\t0.10885097898050608\n",
            "  (0, 17666)\t0.08991473447085423\n",
            "  (0, 10039)\t0.07174779264445774\n",
            "  (0, 18811)\t0.13854546707642607\n",
            "  (0, 23336)\t0.11849680353673223\n",
            "  (0, 32303)\t0.01723651255768221\n",
            "\n",
            "Bag of Words (BoW):\n",
            "  (0, 32301)\t1\n",
            "  (0, 23335)\t1\n",
            "  (0, 18811)\t1\n",
            "  (0, 10039)\t1\n",
            "  (0, 17666)\t1\n",
            "  (0, 21107)\t1\n",
            "  (0, 27949)\t1\n",
            "  (0, 16644)\t1\n",
            "  (0, 28073)\t1\n",
            "  (0, 9270)\t3\n",
            "  (0, 21621)\t2\n",
            "  (0, 15401)\t1\n",
            "  (0, 32565)\t1\n",
            "  (0, 18208)\t1\n",
            "  (0, 18856)\t1\n",
            "  (0, 16060)\t2\n",
            "  (0, 8028)\t1\n",
            "  (0, 20919)\t3\n",
            "  (0, 32282)\t1\n",
            "  (0, 31931)\t1\n",
            "  (0, 24804)\t1\n",
            "  (0, 35985)\t2\n",
            "  (0, 21398)\t2\n",
            "  (0, 33000)\t1\n",
            "  (0, 23007)\t2\n",
            "  :\t:\n",
            "  (0, 30181)\t1\n",
            "  (0, 12265)\t1\n",
            "  (0, 36390)\t1\n",
            "  (0, 33525)\t1\n",
            "  (0, 10830)\t1\n",
            "  (0, 4206)\t1\n",
            "  (0, 7144)\t1\n",
            "  (0, 15554)\t1\n",
            "  (0, 7384)\t1\n",
            "  (0, 343)\t1\n",
            "  (0, 29821)\t1\n",
            "  (0, 16371)\t1\n",
            "  (0, 27189)\t1\n",
            "  (0, 34762)\t1\n",
            "  (0, 4751)\t1\n",
            "  (0, 8322)\t1\n",
            "  (0, 14170)\t1\n",
            "  (0, 14502)\t1\n",
            "  (0, 32580)\t1\n",
            "  (0, 21055)\t1\n",
            "  (0, 28842)\t1\n",
            "  (0, 9062)\t1\n",
            "  (0, 20966)\t1\n",
            "  (0, 26345)\t1\n",
            "  (0, 18513)\t1\n"
          ]
        }
      ]
    }
  ]
}